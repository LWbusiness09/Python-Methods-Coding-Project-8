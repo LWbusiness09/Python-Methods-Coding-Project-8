{
  "nbformat": 4,
  "nbformat_minor": 0,
  "metadata": {
    "colab": {
      "provenance": []
    },
    "kernelspec": {
      "name": "python3",
      "display_name": "Python 3"
    },
    "language_info": {
      "name": "python"
    }
  },
  "cells": [
    {
      "cell_type": "code",
      "execution_count": 8,
      "metadata": {
        "id": "ay4hJwMB2o3U"
      },
      "outputs": [],
      "source": [
        "import numpy as np"
      ]
    },
    {
      "cell_type": "code",
      "source": [
        "def random_list (size) :\n",
        "  list = []\n",
        "  for i in range(size):\n",
        "    list.append(np.random.randint(10,50))\n",
        "  return list\n",
        "\n",
        "def sum_random(list):\n",
        "  sum = 0\n",
        "  for i in range(len(list)) :\n",
        "    sum = sum + list[i]\n",
        "  return sum"
      ],
      "metadata": {
        "id": "Ku2R2BHm2sX8"
      },
      "execution_count": 24,
      "outputs": []
    },
    {
      "cell_type": "code",
      "source": [
        "n = int(input(\"Enter an integer number between 5 and 15: \"))\n",
        "\n",
        "while True:\n",
        "  if n>= 5 and n <= 15:\n",
        "    break\n",
        "  else:\n",
        "    print(\"Try a different number\")\n",
        "    n = int(input(\"Enter an integer number between 5 and 15: \"))"
      ],
      "metadata": {
        "colab": {
          "base_uri": "https://localhost:8080/"
        },
        "id": "kRVVJF7U3E-8",
        "outputId": "2ef38934-dad9-481c-8394-c55515567509"
      },
      "execution_count": 26,
      "outputs": [
        {
          "name": "stdout",
          "output_type": "stream",
          "text": [
            "Enter an integer number between 5 and 15: 4\n",
            "Try a different number\n",
            "Enter an integer number between 5 and 15: 19\n",
            "Try a different number\n",
            "Enter an integer number between 5 and 15: 6\n"
          ]
        }
      ]
    },
    {
      "cell_type": "code",
      "source": [
        "MyList = random_list(n)\n",
        "print(\"The elements in of the arrays are: \", MyList)\n",
        "MySum = sum_random(MyList)\n",
        "print(\"The sum is: \", MySum)"
      ],
      "metadata": {
        "colab": {
          "base_uri": "https://localhost:8080/"
        },
        "id": "JSPzs9Jf3YeE",
        "outputId": "ab4ccf7a-f222-48e9-8c21-180fae31af88"
      },
      "execution_count": 19,
      "outputs": [
        {
          "output_type": "stream",
          "name": "stdout",
          "text": [
            "The elements in of the arrays are:  [21, 28, 40, 36, 37, 20]\n",
            "The sum is:  182\n"
          ]
        }
      ]
    }
  ]
}